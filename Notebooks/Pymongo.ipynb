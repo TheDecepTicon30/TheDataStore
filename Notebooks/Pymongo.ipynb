{
 "cells": [
  {
   "cell_type": "markdown",
   "metadata": {},
   "source": [
    "### Establish connecion"
   ]
  },
  {
   "cell_type": "code",
   "execution_count": null,
   "metadata": {},
   "outputs": [],
   "source": [
    "import tqdm"
   ]
  },
  {
   "cell_type": "code",
   "execution_count": null,
   "metadata": {},
   "outputs": [],
   "source": [
    "import pandas as pd\n",
    "df = pd.read_csv(r'D:\\Sabertooth files\\News Data\\UpdatedNews3.csv',encoding = 'ISO-8859-1')"
   ]
  },
  {
   "cell_type": "code",
   "execution_count": null,
   "metadata": {},
   "outputs": [],
   "source": [
    "df.Content[301]"
   ]
  },
  {
   "cell_type": "code",
   "execution_count": null,
   "metadata": {},
   "outputs": [],
   "source": [
    "dflist = []\n",
    "from tqdm import tqdm\n",
    "for lines in tqdm(df.Content):\n",
    "    lines = str(lines)\n",
    "    list1 = \"\"\n",
    "    for i in range(len(lines)):\n",
    "        if lines[i].isupper():\n",
    "            if not lines[i-1].isupper():\n",
    "                list1 += \" \" + lines[i]\n",
    "            else:\n",
    "                list1 += lines[i]\n",
    "        else:\n",
    "            list1 += lines[i]\n",
    "    dflist.append(list1)"
   ]
  },
  {
   "cell_type": "code",
   "execution_count": null,
   "metadata": {},
   "outputs": [],
   "source": [
    "df['Content'] = dflist"
   ]
  },
  {
   "cell_type": "code",
   "execution_count": null,
   "metadata": {},
   "outputs": [],
   "source": [
    "df.Content[73834]"
   ]
  },
  {
   "cell_type": "code",
   "execution_count": null,
   "metadata": {},
   "outputs": [],
   "source": [
    "df.to_csv('UpdatedNews3.csv')"
   ]
  },
  {
   "cell_type": "code",
   "execution_count": 8,
   "metadata": {},
   "outputs": [],
   "source": [
    "import pymongo\n",
    "import pandas as pd\n",
    "uri = \"mongodb://24f9cd34-0ee0-4-231-b9ee:avd9uFDe9Vjcud890ovWifW9zVcv9D60P142TJvC1Ba8pc0qM1dPkt80MotOWdI5BNyfvnp5lSlHxzoGijKWyw==@24f9cd34-0ee0-4-231-b9ee.documents.azure.com:10255/?ssl=true&replicaSet=globaldb\"\n",
    "myclient = pymongo.MongoClient(uri)\n",
    "\n",
    "mydb = myclient[\"Saber\"]\n",
    "mycol = mydb['News']"
   ]
  },
  {
   "cell_type": "code",
   "execution_count": null,
   "metadata": {},
   "outputs": [],
   "source": [
    "myclient.list_database_names()"
   ]
  },
  {
   "cell_type": "code",
   "execution_count": null,
   "metadata": {
    "scrolled": false
   },
   "outputs": [],
   "source": [
    "for i in mydb.collection_names():\n",
    "    print(i)"
   ]
  },
  {
   "cell_type": "markdown",
   "metadata": {},
   "source": [
    "### Load Data"
   ]
  },
  {
   "cell_type": "code",
   "execution_count": null,
   "metadata": {},
   "outputs": [],
   "source": [
    "df = pd.read_csv(r'D:\\Sabertooth files\\News Data\\news(24-11-2018).csv',encoding = 'ISO-8859-1')"
   ]
  },
  {
   "cell_type": "code",
   "execution_count": null,
   "metadata": {},
   "outputs": [],
   "source": [
    "import json\n",
    "jdf = open('cipla.json',encoding = 'ISO-8859-1').read()\n",
    "data = json.loads(jdf)"
   ]
  },
  {
   "cell_type": "markdown",
   "metadata": {},
   "source": [
    "### Inserting Data"
   ]
  },
  {
   "cell_type": "code",
   "execution_count": null,
   "metadata": {
    "scrolled": true
   },
   "outputs": [],
   "source": [
    "x = mycol.insert_one(data)"
   ]
  },
  {
   "cell_type": "code",
   "execution_count": null,
   "metadata": {},
   "outputs": [],
   "source": [
    "x.inserted_id"
   ]
  },
  {
   "cell_type": "code",
   "execution_count": null,
   "metadata": {},
   "outputs": [],
   "source": [
    "myquery = {\"Title\":{ \"$gt\": \"S\" }}"
   ]
  },
  {
   "cell_type": "code",
   "execution_count": null,
   "metadata": {},
   "outputs": [],
   "source": [
    "import json\n",
    "#jdf = open('cipla.json',encoding = 'ISO-8859-1').read()\n",
    "data = json.loads(df.to_json(orient = 'records'))"
   ]
  },
  {
   "cell_type": "code",
   "execution_count": 1,
   "metadata": {},
   "outputs": [],
   "source": [
    "import pandas as pd\n",
    "import os\n",
    "import json\n",
    "from tqdm import tqdm\n",
    "\n",
    "# widgets = [\"Completed: \", Percentage(), ' ', Bar(marker = RotatingMarker()),\n",
    "#           ' ', ETA(), ' ', FileTransferSpeed()]\n",
    "# pbar = ProgressBar(widgets  = widgets, maxval = 10000000).start()\n",
    "# chunksize = 1\n",
    "#df = pd.read_csv(r'D:\\Sabertooth files\\News Data\\UpdatedNews3.csv',encoding = 'ISO-8859-1')\n",
    "# for i,a in enumerate(range(len(df))):\n",
    "#     print(i,a)\n",
    "# for i in range(len(df)):\n",
    "#     data = json.loads(df.to_json(orient = 'records'))\n",
    "#     mycol.insert_one(data[0])\n",
    "\n",
    "\n",
    "\n",
    "# for no,df in enumerate(pbar(pd.read_csv(r'D:\\Sabertooth files\\News Data\\UpdatedNews3.csv',encoding = 'ISO-8859-1',chunksize = chunksize))):\n",
    "#     db = myclient.testdb\n",
    "#     data = json.loads(df.to_json(orient = 'records'))\n",
    "#     mycol.insert_one(data[0])"
   ]
  },
  {
   "cell_type": "code",
   "execution_count": 2,
   "metadata": {},
   "outputs": [
    {
     "data": {
      "text/plain": [
       "'[{\"Unnamed: 0\":0,\"Author\":\" ByRuchira Roy, ET Bureau \",\"Category\":\" News, Economy, Policy \",\"Content\":\"  MUMBAI:  The government rolled out its game changing direct cash(or benefit) transfer scheme in 20 districts across 16 states on  Tuesday, transferring over  Rs 35.45 lakh in 1980 transactions to the accounts of beneficiaries with Aadharor  Unique  Identity numbers.  There were about eight banks who were bankers to the government s schemes and 23 recipient banks who received payments on beneficiary accounts, said a senior official from  National  Payment  Corporation of  India, on condition of anonymity. NPCIhas set up the  Aadhar enabled payment systems for the transfer of cash subsidies. The government had earlier mandated  Aadhar cards for transfer of benefits, but on  Monday Finance Minister P  Chidambaramsaid that the cash would be transferred to the beneficiary accounts, even if they do not have Unique  Identity cards.  The total amount transferred to the account of beneficiaries without  Aadhar numbers could not be determined. The government on  Tuesday rolled out transfer of benefits for 10 schemes, including  Janani  Suraksha  Yojana, Mahatma  Gandhi National  Rural  Employment  Guarantee  Scheme,  District welfare schemes,  Rural  Development  Schemes and student scholarships and stipends.  Over the next few days or weeks, we will aim at 100 penetration of  Aadhaar beneficiaries...whether there is  Aadhaar card or not money will be credited, money will be withdrawn,  Finance ministersaid. The government had announced transfer of cash subsidies in 43 districts by  January 1.  But now it is being done in a phased manner starting with 20 districts in  Karnataka, Andhra  Pradesh,  Delhi,  Rajasthan, Madhya  Pradeshand  Punjab. All the 43 districts will be covered by  March 1.  So far about 20.4 crore people have enrolled for  Aadhar membership, data from UIDAIshows.  The government planned to transfer benefits to about 2 lakh beneficiaries of seven schemes in 20 districts on  Tuesday. Public sector bankshave been opening accounts in the 51 districts on a war footing, increasing the coverage through business correspondents. However, a major problem, bankers say, has been the lack of sufficient number of hand held devices for the banking correspondents that would be necessary in case of requirement of cash withdrawals by beneficiaries in far flung areas . \",\"Date\":\"2013-01-02 01:58:00\",\"Source\":\"econominc-times\",\"Subtitle\":null,\"Tags\":\" DBT, Direct cash transfer, P Chidambaram, Unique Identity Cards, Aadhar, finance, Finance minister \",\"Title\":\" Direct Cash Transfer: Govt transfers Rs 35.45 lakh on launch day \"},{\"Unnamed: 0\":1,\"Author\":\" BySatish John, ET Bureau \",\"Category\":\" Industry, Energy, Oil Gas \",\"Content\":\"  MUMBAI:  The  Ruia brothers and their bankers are trying to cobble together a complex deal, to be signed on the high seas, to bring down the borrowing requirement of  Essar  Energy s  Jamnagar refinery by 600 million.  If it fructifies, the transaction will be a first of its kind in  India. The  Indian firm has taken a leaf from its  UK based refinery subsidiary  Stanlow  Refinery whose crude inventory and finished products are managed by the  British bank  Barclays under a similar deal. Encouraged by the significant cost benefits,  Essar  Energy is now in active discussions with a team of  MNC banks that will own and manage its multi million barrel crude inventory.  If lawyers and bankers give the green signal, the deal will be cut on the high seas while the crude is being ferried from  Latin  American coast to  Gujarat. For  Essar  Energy, it takes almost 35 days for the crude it buys from  Latin  America to reach  Jamnagar.  The contours of the deal suggest that banks will hold the crude oil on their books and pass on the inventory to the refiner just before it is processed. The  Stanlow  Refinery, which  Essar acquired for 350 million, has saved 40 interest cost on working capital loans by letting banks own the crude and the refined products.  We are talking to a number of banks...mostly foreign banks,  Naresh  Nayyar,  CEO,  Essar  Energy told  ET.  I m not ready to give any timeline.  We are exploring it, and this is probably the first time any  Indian company is exploring this possibility, he said.  Essar s local refinery capacity is about 20 MMTPA and refining complexity has been raised to 6.1 11.8, allowing it to import crude cargoes from oil rich  Latin  American countries. The deal with  Barclays had helped in removing the working capital debt, substantially reduce the capital intensity of the  Stanlow  Refinery and improve returns, said  Andrew  Turpin, spokesperson for the  UK subsidiary,  Essar  Energy  Plc.  Post the deal with  Barclays, the refinery has lowered its working capital by 824 million.  It improves operating flexibility, particularly in high oil price environment and also allows  Essar  Oil  UK to substantially de risk itself from the impact of international oil price fluctuations on the inventories owned by the company previously crude was held for average 19 days on site, now it is delivered just in time by the bank and priced daily,  Andrew  Turpin, spokesperson for  Essar  Energy said. But in  India, oil refiners such as  Essar cannot straight away replicate the  Stanlow deal because of local tax laws.  Since there is tax implication every time a transaction is closed,  Essar is putting together a deal that involves sale and purchase with banks outside the  Indian territorial waters. While the pact with  Barclays covers crude as well as the final products, the deal being negotiated for the  Indian refinery will be restricted to the crude inventory. The compulsions behind such deals are high crude price, settling above 100 a barrel, and the huge expenses involved running a large refinery. \",\"Date\":\"2013-01-02 01:57:00\",\"Source\":\"econominc-times\",\"Subtitle\":\" The Ruia brothers and their bankers are trying to cobble together a complex deal, to be signed on the high seas, to bring down the borrowing requirement of Essar Energy s Jamnagar refinery by 600 million. \",\"Tags\":\" Essar Engery, Naresh Nayyar, Jamnagar refinery, Stanlow refinery, Ruia brothers, crude inventory management \",\"Title\":\" Essar Engery in talks with lenders for crude inventory management deal \"},{\"Unnamed: 0\":2,\"Author\":\" PTI \",\"Category\":\" News, Politics and Nation \",\"Content\":\"  SINGAPORE:  A 13 year old Indian studenthas been arrested here by Singaporepolice for posting a Facebookmessage in which he allegedly threatened to bomb a luxury casino resort in the city state. The unnamed boy vowed to take a big big revenge , spit everywhere and plant bombs on  Marina  Bay  Sands , a major tourist attraction, on the day he leaves  Singapore,  The  Straits  Times reported. The post also contained an expletive and was critical of  Singapore, the paper said. Singapore police said the boy, a student of the  Global  Indian  International  School, was arrested under the  Breach of  Prohibition  Against  False  Threats of  Terrorist  Acts, with reports saying the  Facebook posting had been taken down. The offence is punishable by a maximum of five years in jail or a fine of up to 100,000 dollars, or both. \",\"Date\":\"2013-01-02 01:50:00\",\"Source\":\"econominc-times\",\"Subtitle\":\" A 13 year old Indian student has been arrested here by Singapore police for posting a Facebook message in which he allegedly threatened to bomb a luxury casino resort in the city state. \",\"Tags\":\" Facebook, Singapore, Bomb threat, Indian student \",\"Title\":\" Indian student arrested in Singapore over bomb threat \"},{\"Unnamed: 0\":3,\"Author\":\" Bloomberg \",\"Category\":\" Markets, Commodities \",\"Content\":\"  NEW  YORK: Natural gasfell in  New  York as the outlook for mild  January weather signaled lower demand and reduced the first annual gain in five years. Futures dropped 3.4 as  MDA  Weather  Services in  Gaithersburg,  Maryland, predicted above normal temperatures in the eastern  US over the next six to 14 days.  Gas snapped a four year losing streak as record demand from power plants during an unusually hot summer helped shrink an inventory glut.  In the first half of  January, the weather on the  Eastern  Seaboard doesn t look too threatening,  Stephen  Schork, president of  Schork  Group, a consulting group in  Villanova,  Pennsylvania, said.  The surplus is going to be expanding for the next couple of weeks.  As soon as we work through the current overhang, we will start to see some semblance of firmness in the markets.  Natural gas for  February delivery dropped 11.8 cents to settle at 3.351 per million  British thermal units on the New  York  Mercantile  Exchange.  The futures climbed 12 in 2012 to post the first annual gain since 2007. \",\"Date\":\"2013-01-02 02:34:00\",\"Source\":\"econominc-times\",\"Subtitle\":null,\"Tags\":\" Natural gas, Natural gas futures, New York Mercantile Exchange \",\"Title\":\" Natural gas futures fall on milder weather \"},{\"Unnamed: 0\":4,\"Author\":\" Bloomberg \",\"Category\":\" Markets, Commodities \",\"Content\":\"  NEW  YORK:  A gauge ofraw material pricesranging from burlap to steel may point to improving global growth amid signs of an industrial recovery in  China and the  United  States, the biggest users ofcommodities. The  Journal of  Commerce  Economic  Cycle  Research  Institute  Industrial  Smoothed  Price ( Jo C  ECRI)  Index, which tracks the annual growth rate of 18 commodities, rose on  Tuesday to its highest since  September.  Nine components, including ethylene and red oak, aren t traded on  US exchanges and are less influenced by investor sentiment. A  US budget impasse and  Europe srecessionsent the  Standard  Poor s  GSCI  Spot  Index of 24 commodity prices down as much as 11 since reaching a five month high on  September 14.  Since then, government reports showed signs that the  US housing market is recovering while  Chinese manufacturing in  November expanded at the fastest pace in 19 months.  The  US and  China are the two biggest commodities users.  Goldman  Sachs said this month that growth in emerging markets will boost demand for raw materials and tighten supply.  Chinese economic growth could give a real shot of adrenaline to many commodities, said  Chad  Morganlander, a  Florham  Park,  New  Jersey based fund manager at  Stifel  Nicolaus  Co.  We re optimistic about growth on a global basis as well as a resurgence in commodities markets.  China s economy may have rebounded after a seven quarter slowdown as the government boosted spending on infrastructure and accelerated investment project approvals.  A  Purchasing  Managers  Index climbed to 51.5 in  December, the highest since  May 2011,  HSBC  Holdings and  Markit  Economics said.  A level above 50 indicates expansion.  There s reason for caution on economic growth prospects, said  Jonathan  Guyer, the chief investment officer of  Longview  Funds  Management in  Columbia,  Maryland, who helps oversee about 19 million of assets.  Even so, there are signs that the global economy is starting to improve, and measures including the  Jo C  ECRI index often have less noise, and reflect real demand,  Guyer said. The  Jo C  ECRI tracks the ratio of price changes from a year earlier.  The index rose to 7 on  Tuesday, the highest since  September 20.  It averaged minus 3 last month and minus 6.6 this year.  The  S  P  GSCI was down about 0.1 this year through  December 28. \",\"Date\":\"2013-01-02 02:46:00\",\"Source\":\"econominc-times\",\"Subtitle\":null,\"Tags\":\" Recession, commodities, US economy, China economy \",\"Title\":\" Raw material gauge indicates demand pickup on outlook for China \"},{\"Unnamed: 0\":5,\"Author\":\" ET Bureau \",\"Category\":\" News, Politics and Nation \",\"Content\":\"  NEW  DELHI:  AHaryana ministerhas put Congressin a tight spot by calling suicide victim Geetika  Sharmaa servant of his former ministerial colleague Gopal  Kanda, the prime accused in the case. Geetika was an employee of the now defunct  MDLR airline owned by  Kanda.  Twenty three year old  Geetika was found dead on  August 5 last year at her  Ashok  Vihar residence in northwest  Delhi.  In one of her suicide notes, the young woman said she was ending her life due to harassment by  Kanda and his aide Aruna  Chaddha, a co accused. Haryana s labour and employment minister Shiv  Charan  Sharmadrew the ire of  Opposition  BJP and women s organisations as he praised  Kanda and said the case he had been booked in was not such a big one.  This isn t such a big case.  He ( Kanda) appointed her ( Geetika) as a servant by mistake,  Sharma is quoted as saying by news agencies while participating in jailed  Kanda s birthday celebrations organised by his supporters in  Sirsa on  December 29.  It s just a bad time for my brother  Gopal  Kanda.  But very soon he will be proved innocent and these rumours will die on their own,  Sharma said.  The celebrations were also marked by a hawan and a health camp.  The minister had also said  Kanda is a brave and honest person who has been falsely implicated by those who are jealous of his phenomenal growth in life. Chief  Parliamentary  Secretary and  Fatehabad  MLA  Prahalad  Singh, who was also present at the event, said that he is sure that the rumours against  Kanda would soon die down.  His birthday is being celebrated in jail and in  Delhi also.  Gopal  Kanda is always among us.  He doesn t get afraid of anything.  He doesn t fear anyone,  Sharma said.  He later sought to downplay the controversy saying the case is in the court.  I respect the court and it will decide whether he is guilty or not.  If he has committed a crime, court will charge him otherwise he will be released.  CBI is investigating the case.  Within a few days we will get the result of the investigation, he added. BJP s  Mukhtar  Abbas  Naqvi slammed  Sharma for the remarks and warned that people s anger will rise because of such insensitive comments.  BJP s  Smriti  Irani said the remarks were extremely condemnable, especially when the atmosphere was surcharged after the death of the 23 year old  Delhi gang rape victim.  He is insulting the girl ( Geetika) by calling her  Kanda s servant.  Question should be asked from him why the girl committed suicide, said National  Commission for  Women( NCW) chairperson  Mamata  Sharma. Geetika s brother  Ankit demanded an apology from the minister.  An embarrassed  Congress refused to be drawn into the controversy but said the minister would be spoken to.  Congress spokesperson  Rashid  Alvi said the party will talk to  Sharma since he was not aware of the remark but stressed that political leaders should make comments very carefully. The remarks have come at a time when the  Congress is on the backfoot after the death of  Delhi gang rape victim and the public outrage over  Delhi  Police s inability at preventing such a horrific incident. \",\"Date\":\"2013-01-02 02:52:00\",\"Source\":\"econominc-times\",\"Subtitle\":\" Geetika was found dead on August 5 in Delhi. In one of her suicide notes, the woman said she was ending her life due to harassment by Kanda \",\"Tags\":\" Geetika Sharma, Shiv Charan Sharma, Gopal Kanda, Congress, National Commission for Women, Haryana minister, Aruna Chaddha \",\"Title\":\" Haryana Minister Shiv Charan Sharma stirs a row, calls Geetika servant of Kanda \"},{\"Unnamed: 0\":6,\"Author\":\" ET Bureau \",\"Category\":\" News, Politics and Nation \",\"Content\":\"  NEW  DELHI:  The pressure is growing on the  Centre to frame stronger laws against rape.  Tamil  Nadu chief minister  Jayalalithaa on  Tuesday asked the  Centre to amend existing laws to provide for death penalty and chemical castration for those convicted of rape.  The  Centre will be requested to amend the laws to ensure the maximum punishment of death penalty and chemical castration for those responsible for rapes.  The offence should also be made non bailable,  Jayalalithaa said, expressing her grief over the death of the 23 year old gang rape victim in the national capital. Jayalalithaa also announced a 13 point action plan to ensure safety of women in  Tamil  Nadu and said that incidents of sexual assault would be treated as a grave crime and probes would be entrusted to top police officials.  The chief minister also said that daily hearings would be conducted in all sexual abuse cases in the state for speedy trials at specially constituted fast track courts and woman prosecutors would be appointed as government counsels. She also ordered that enquiry in all pending cases of sexual abuse in the state be expedited and a status report be submitted in 15 days.  The chief minister announced plans for setting up of a  Women  Helpline, deploying police personnel in plainclothes at market places and colleges to ensure the safety of women, putting  CCTVs in all public buildings to identify those who trouble women, bearing the medical expenses of victims of sexual assault and amending the  Goonda  Act to bring sexual assault cases under its purview.  Every effort would be made to ensure that women feel safe and move fearlessly in  Tamil  Nadu,  Jayalalithaa said in  Chennai.  The  National  Commission for  Women welcomed the steps announced by the  Tamil  Nadu chief minister and said those would lead to decrease in crime rate. Meanwhile, the  Centre on  Tuesday constituted a  Special  Task  Force headed by the  Union home secretary to look into the safety issues of women in  Delhi and review the functioning of  Delhi  Police on a fortnightly basis.  It will have 12 other top officials of  Delhi the chief secretary, police commissioner of  Delhi, special  CP(traffic), special  CP (law order), chairperson of  Delhi  Commission for  Women, chairperson of  NDMC, transport commissioner, commissioners of the three municipal corporations, excise commissioner and joint secretary ( UT) in the home ministry. \",\"Date\":\"2013-01-02 08:29:00\",\"Source\":\"econominc-times\",\"Subtitle\":\" Tamil Nadu Chief Minister Jayalalithaa today said her government would request the Centre to make necessary changes in the law to provide death penalty and chemical castration to those involved in such crimes \",\"Tags\":\" Jayalalithaa, tamil nadu, Women helpline \",\"Title\":\" Delhi gang rape case: Jayalalithaa for harsher punishment for rape \"},{\"Unnamed: 0\":7,\"Author\":\" \",\"Category\":\" Wealth, Insure \",\"Content\":\"  By  Pankaj  Mathpal,  CEO,  Optima  Money  Managers NRISon  Premium I am nearing 80 years and have a  Sampoorna  Arogya  Bimamediclaim policyfrom  National Insurancefor  Rs 1 lakh.  Now,  I intend to enhance the policy limit to  Rs 5 lakh through  Oriental  Insurance.  My  NRI son is willing to propose for me for the policy and pay the premiums from his bank account, which is accounted for income tax purposes in  India.  I do not want him to face any complications.  Please advise.  Secondly, in case of a claim, would  I get the claim amount?( Vinna  D  Costa) Your son, who is an  NRI, can buy a health insurance policy for you and pay premium from his  NRE or  NRO bank account.  If he wants to claim deduction u s 80 D of the  I  T  Act on his income in  India, if any, then the premium should be paid out of his taxable income in  India.  In such case he can pay the premium from his  NRO account.100  Premium  Loading I am holding medicilaim policy of  Oriental  Insurance since 2001.  This year, the company has applied loading of 100 on my premium as  I have claim hospitalisation.  As per Irdaguidelines for senior citizens, loading should not be more than 50 75 .  Please advise.( Arvind  Patel) As per para 3.13.1 of of  Irda ( Health  Insurnace  Regulation, 2012), the premium, while renewing the mediclaim  Policy having adverse claim experience, can be suitably loaded as per the pre determined table, disclosed at the outset in prospectus and policy document.  Regulation further states that the premium charged for health insurance products offered to senior citizens shall be fair, justified, transparent and duly disclosed upfront.  You can read your policy document to know the limit of loading in the premium. \",\"Date\":\"2013-01-02 03:32:00\",\"Source\":\"econominc-times\",\"Subtitle\":null,\"Tags\":\" insurance, IRDA, NRI, premium, Mediclaim policy \",\"Title\":\" Q A: Insurance \"},{\"Unnamed: 0\":8,\"Author\":\" ByGulveen Aulakh, ET Bureau \",\"Category\":\" News, Economy, Finance \",\"Content\":\"  NEW  DELHI:  Global electronic payments firm Visa  Internationalhas offered the use of its nationwide network for the government s ambitious direct benefit transfer scheme aimed at distributing subsidies directly to beneficiaries. Last month, the company, together with a consortium of banks, rolled out  Saral  Money, a payment service that allows  Aadhaar cardholders to deposit and withdraw money from their low cost bank accounts through existing ATMs, point of sale terminals, bank branches and proposed micro  ATMs.  Thebanks Visa has tied up with include the State  Bank of  India, HDFC  Bank, ICICI  Bank, Indian  Overseas  Bankand Axis  Bank. Last month, it partnered with UIDAIto allow an  Aadhaar cardholder to instantly open a bank account using biometric recognition or fingerprints for authentication of personal information.  The cardholder will get an instant  Visa debit card which can be used for depositing or withdrawing cash at any of the 500 business correspondent outlets that  Visa is setting up across the country.  We re in talks with the government through the consortium of banks that we have tied up with.  We re talking to them for trying to use us in any of the 51 districts or any of the schemes they are planning, said  Visa s group country manager for  India and  South  Asia,  Uttam  Nayak.  We have told the government that you give us a file of Aadharnumbers and the money credited to them and we will push the money to the account of whoever has a  Saral  Money card.  Those who do not have an account, we will offer to instantly create a bank account.  We will make sure that we create bank accounts for everybody who is getting benefits from the government,  Nayak added. The government on  Tuesday launched its direct cash transfer scheme under which subsidy payments will be directly transferred to bank accounts of some 2 lakh beneficiaries across 20 districts across the country.  The first set of payouts will come from seven schemes. These include scholarships for  SC,  ST and  OBCs students, the  Indira  Gandhi  Matrutva  Sahayata  Yojana,  Dhanalakshmi scheme and a stipend scheme for  SC  ST job seekers.  The direct benefit transfer scheme will eventually include payouts from 26 schemes.  Starting next month, 11 more districts will be covered and another 12 districts will be covered from  March 1, taking the total to 43. \",\"Date\":\"2013-01-02 04:14:00\",\"Source\":\"econominc-times\",\"Subtitle\":\" Global electronic payments firm Visa International has offered the use of its nationwide network for the government s ambitious direct benefit transfer scheme \",\"Tags\":\" UIDAI, Visa International, Aadhar, cash subsidies, Banks, ATMs, ICICI bank \",\"Title\":\" Visa offers network for distributing cash subsidies to Aadhar cardholders \"},{\"Unnamed: 0\":9,\"Author\":\" ByVithal C Nadkarni, ET Bureau \",\"Category\":\" Opinion, Vedanta \",\"Content\":\"  The  Little  Rann of  Kutch is a desert with a difference.  The arid expanse is the last refuge of the  Khur, or the  Indian  Wild  Ass, which is a subspecies of the  Onager of  Biblical fame.  Your columnist made first contact with the lithe and limpid eyed animals recently in their sanctuary at  Dasada. Their carefree and noble demeanour at once reminded us of the equine avatar of  Vishnu called Hayagriva.  The  Biblical bard asks similarly,  Who has sent the wild onager free?  He s alluding to  God s touch as conveyed by the creature. Vindication of these divine links came from social networks,  God, in one of his unique forms, was the spontaneous comment of a friend to the picture of the animal gracefully caught in midstride  Close on its heels came another friend s comment that voted the picture, with no prompting, as the most beautiful donkey in the world .  The comment ended with a question asking whether the picture was of the most beautiful horse (or equine) that we saw on the entire network?  Vishnu s equine avatar makes similar, lofty associations in  Indic mythology.  Hayagriva is worshipped as the  God of  Knowledge and  Wisdom.  The human body with the horse s head, brilliantly white clad in white garments and seated upon a thousand rayed white lotus symbolising the  Brahman, is said to represent the triumph of pure knowledge. Guided by the hand of  God, it also stands for victory of ultimate goodness over basic animalistic passions.  Hayagriva is a pivotal deity in Vaishnavitetradition:  He blesses both sacred and secular studies. \",\"Date\":\"2013-01-02 05:18:00\",\"Source\":\"econominc-times\",\"Subtitle\":null,\"Tags\":\" Gold, Vaishnavite, Hayagriva, Horse sense \",\"Title\":\" Horse sense \"}]'"
      ]
     },
     "execution_count": 2,
     "metadata": {},
     "output_type": "execute_result"
    }
   ],
   "source": [
    "df1 = pd.read_csv(r'D:\\Sabertooth files\\News Data\\UpdatedNews3.csv',encoding = 'ISO-8859-1')\n"
   ]
  },
  {
   "cell_type": "code",
   "execution_count": 9,
   "metadata": {},
   "outputs": [],
   "source": [
    "data = json.loads(df1.to_json(orient = 'records'))"
   ]
  },
  {
   "cell_type": "code",
   "execution_count": null,
   "metadata": {},
   "outputs": [
    {
     "name": "stderr",
     "output_type": "stream",
     "text": [
      "  1%|▉                                                                      | 16044/1209813 [58:31<71:49:27,  4.62it/s]"
     ]
    }
   ],
   "source": [
    "for df in tqdm(data):\n",
    "    mycol.insert_one(df)"
   ]
  },
  {
   "cell_type": "markdown",
   "metadata": {},
   "source": [
    "###   Search query"
   ]
  },
  {
   "cell_type": "code",
   "execution_count": null,
   "metadata": {},
   "outputs": [],
   "source": [
    "import pymongo"
   ]
  },
  {
   "cell_type": "code",
   "execution_count": null,
   "metadata": {},
   "outputs": [],
   "source": [
    "client = pymongo.MongoClient()\n",
    "mydb = client['NewsDatabase']\n",
    "collection = mydb['all_news2']"
   ]
  },
  {
   "cell_type": "code",
   "execution_count": null,
   "metadata": {},
   "outputs": [],
   "source": [
    "for i in collection.list_indexes():\n",
    "    print(i)"
   ]
  },
  {
   "cell_type": "code",
   "execution_count": null,
   "metadata": {
    "scrolled": true
   },
   "outputs": [],
   "source": [
    "collection.create_index([('Date','text')])"
   ]
  },
  {
   "cell_type": "code",
   "execution_count": null,
   "metadata": {},
   "outputs": [],
   "source": [
    "import ipywidgets as widgets\n",
    "d = widgets.Dropdown(options=['Date', 'Source'], value=None, disabled=False)\n",
    "def find_sort():\n",
    "    count = 0\n",
    "    word = \" \"+input('search: ')+\" \"\n",
    "    start = input('start date: ')\n",
    "    end = input('end date: ')\n",
    "    for i in collection.find({\"$and\": [{\"Title\" : {\"$regex\" : word,\"$options\":\"i\"}},{'Date': {'$gte': start, '$lt': end}}]}).sort('Date',pymongo.ASCENDING) :\n",
    "        count += 1\n",
    "        print(i['Date'],i['Title'])\n",
    "    print(count)\n",
    "find_sort()"
   ]
  },
  {
   "cell_type": "code",
   "execution_count": null,
   "metadata": {},
   "outputs": [],
   "source": [
    "import datetime\n",
    "import pandas as pd\n",
    "start = pd.to_datetime(\"2017-09-12\")\n",
    "end = pd.to_datetime(\"2018-08-11\")\n",
    "\n",
    "for doc in collection.find({'Date': {'$gte': \"2017-01-01\", '$lt': \"2017-01-29\"}}).sort('Date',pymongo.ASCENDING):\n",
    "    print (doc['Date'])"
   ]
  },
  {
   "cell_type": "code",
   "execution_count": null,
   "metadata": {},
   "outputs": [],
   "source": [
    "li = []\n",
    "for i in data:\n",
    "    li.append(i)"
   ]
  },
  {
   "cell_type": "code",
   "execution_count": null,
   "metadata": {},
   "outputs": [],
   "source": [
    "Sabertooth_666"
   ]
  },
  {
   "cell_type": "code",
   "execution_count": null,
   "metadata": {},
   "outputs": [],
   "source": [
    "import pandas as pd\n",
    "df = pd.read_csv('cipla.csv',encoding = 'ISO-8859-1')"
   ]
  },
  {
   "cell_type": "code",
   "execution_count": null,
   "metadata": {},
   "outputs": [],
   "source": [
    "df.to_json('cipla.json',orient = 'records')"
   ]
  },
  {
   "cell_type": "code",
   "execution_count": null,
   "metadata": {},
   "outputs": [],
   "source": [
    "import os\n",
    "os.listdir()"
   ]
  },
  {
   "cell_type": "code",
   "execution_count": null,
   "metadata": {},
   "outputs": [],
   "source": []
  }
 ],
 "metadata": {
  "kernelspec": {
   "display_name": "Python 3",
   "language": "python",
   "name": "python3"
  },
  "language_info": {
   "codemirror_mode": {
    "name": "ipython",
    "version": 3
   },
   "file_extension": ".py",
   "mimetype": "text/x-python",
   "name": "python",
   "nbconvert_exporter": "python",
   "pygments_lexer": "ipython3",
   "version": "3.6.5"
  }
 },
 "nbformat": 4,
 "nbformat_minor": 2
}
