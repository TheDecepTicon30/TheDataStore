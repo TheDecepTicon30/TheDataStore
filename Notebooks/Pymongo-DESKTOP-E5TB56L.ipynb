{
 "cells": [
  {
   "cell_type": "markdown",
   "metadata": {},
   "source": [
    "### Establish connecion"
   ]
  },
  {
   "cell_type": "code",
   "execution_count": 2,
   "metadata": {},
   "outputs": [],
   "source": [
    "import tqdm"
   ]
  },
  {
   "cell_type": "code",
   "execution_count": 1,
   "metadata": {},
   "outputs": [],
   "source": [
    "import pandas as pd\n",
    "df = pd.read_csv(r'D:\\Sabertooth files\\News Data\\UpdatedNews3.csv',encoding = 'ISO-8859-1')"
   ]
  },
  {
   "cell_type": "code",
   "execution_count": 9,
   "metadata": {},
   "outputs": [
    {
     "data": {
      "text/plain": [
       "' KOLKATA: Farmers are flocking tojewelleryshops to buygold, boosting rural demand that accounts for about 70 of the precious metal sold in India and starting 2013 on a glittering note for thebulliontrade after a slump last year.Farmers are buying gold as prices have ebbed from record levels, and on prospects of a bumper harvest and better prices from the winter sown crop, after a lean period when erratic monsoon rains had hurt kharif output and rural incomes.Dinesh Chouhan, a 48 year old farmer from Rajasthan s Alwar district, says he has just bought a 10 gm gold chain for her daughter whom he plans to marry off next December. The crop prospect is good this time and we are expecting better price recovery. Moreover, the price of gold has also come down. So I decided to buy a gold chain for my daughter, said Chouhan, who cultivates mustard over five acres.Similarly, Swapan Das, a farmer from West Bengal, bought jewellery for his wife and unmarried sister, as he expects better prices and a good harvest.Bullion dealers andjewellersexpect rural sales to help total demand rise 10 15 this quarter. Rural buyers stayed away during Diwali and the festive season as a patchy monsoon had affected the kharif crop. India s gold imports last year fell to 750 800 tonnes from 969 tonnes in 2011.WEDDING SEASON TO AID DEMAND Rural demand is expected to improve in the January March quarter as farmers are expecting better returns this year. Moreover, the wedding season will be in full swing from January. This will give a fillip to rural demand, said Bachhraj Bamalwa, chairman,All India GemandJewellery Trade Federation. He is expecting a 10 15 growth in the last quarter of the current fiscal.The gold buying season in India usually starts from October and continues till March of the following year. This year, demand had slowed down due to a patchy monsoon and rising prices. Prices of gold had crossed Rs 33,000 per 10 gm as therupeeweakened against the dollar. During Diwali, there was some buying, but that was restricted largely to the urban population. But now we are seeing rural demand gradually coming in. From January 10, the demand will rise, said Lalit Jagawat of Zaveri Bazar based Nakoda Bullion. In Mumbai, spot market gold price hovered around Rs 31,100 per 10 gm. Price of gold has fallen in the past two months as the rupee has strengthened against the greenback.The price of gold in India is usually determined by international rates. During festive season, local demand and currency movement also influence prices to some extent. The rupee plays an important role in determining the landed cost of the dollar quoted yellow metal.But there is a fear that demand may suffer as Finance MinisterP Chidambaramon Wednesday indicated the government may increase import duty on gold to control the high current account deficit. Concerned over ballooning deficit, the government had in March 2012 doubled the import duty on gold to 4 .Gold is the biggest contributor to India s import bill after crude oil. The deficit widened to a record 5.4 of GDP in the September quarter due to slowing export growth, high gold imports and a hefty oil bill. But jewellers do not see a big impact on rural demand if import duty is indeed raised. '"
      ]
     },
     "execution_count": 9,
     "metadata": {},
     "output_type": "execute_result"
    }
   ],
   "source": [
    "df.Content[301]"
   ]
  },
  {
   "cell_type": "code",
   "execution_count": 11,
   "metadata": {},
   "outputs": [
    {
     "name": "stderr",
     "output_type": "stream",
     "text": [
      "100%|██████████████████████████████████████████████████████████████████████| 1209813/1209813 [17:21<00:00, 1161.41it/s]\n"
     ]
    }
   ],
   "source": [
    "dflist = []\n",
    "from tqdm import tqdm\n",
    "for lines in tqdm(df.Content):\n",
    "    lines = str(lines)\n",
    "    list1 = \"\"\n",
    "    for i in range(len(lines)):\n",
    "        if lines[i].isupper():\n",
    "            if not lines[i-1].isupper():\n",
    "                list1 += \" \" + lines[i]\n",
    "            else:\n",
    "                list1 += lines[i]\n",
    "        else:\n",
    "            list1 += lines[i]\n",
    "    dflist.append(list1)"
   ]
  },
  {
   "cell_type": "code",
   "execution_count": 13,
   "metadata": {},
   "outputs": [],
   "source": [
    "df['Content'] = dflist"
   ]
  },
  {
   "cell_type": "code",
   "execution_count": 16,
   "metadata": {},
   "outputs": [
    {
     "data": {
      "text/plain": [
       "'  BANGALORE: Dell, a leading end to end technology solutions provider, today launched itsstorage design centerhere and said it plans to ramp up operations by adding professionals. The sixth of its kind across the globe, the  Bangalore center will strengthen the coordinated development of  Dell s servers, storage and networking in alignment with the company s focus on IT convergencesolutions and its broader enterprise business portfolio, the company said in a release. Dell plans to ramp up operations with its state of the art engineering lab by adding storage architects, design engineers, software developers and engineering managers focused on enterprise storage technologies and data center integration, the release added. Dell s storage design centers in  Austin,  Texas  Eden  Prairie,  Minnesota  Nashua,  New  Hampshire  San  Jose,  California, Tel  Aviv,  Israel and now  Bangalore will collaborate to create next generation storage technologies and data center integration, the company said.  As an additional design center, the  Bangalore storage design facility will focus on a variety of key development areas, including management software, support tools, integration, validation and sustaining activities for the  Dell  Storage portfolio.  Commenting on the launch,  Alan  Atkinson,  Vice  President and  Co  General  Manager,  Dell  Storage said  The demand for efficient storage products is said to be growing by more than 30 per cent annually, and we are receiving more requests for customised products and solutions that address specific datacenter challenges.  With this in mind, we have extended our  Dell  Storage design capabilities to  India, so we canleveragetalent and other resources here to develop new storage innovations that will continue to keep  Dell top of mind for a wide range of storage and data center customers, he added. '"
      ]
     },
     "execution_count": 16,
     "metadata": {},
     "output_type": "execute_result"
    }
   ],
   "source": [
    "df.Content[73834]"
   ]
  },
  {
   "cell_type": "code",
   "execution_count": 17,
   "metadata": {},
   "outputs": [],
   "source": [
    "df.to_csv('UpdatedNews3.csv')"
   ]
  },
  {
   "cell_type": "code",
   "execution_count": 19,
   "metadata": {},
   "outputs": [],
   "source": [
    "import pymongo\n",
    "import pandas as pd\n",
    "uri = \"mongodb://24f9cd34-0ee0-4-231-b9ee:avd9uFDe9Vjcud890ovWifW9zVcv9D60P142TJvC1Ba8pc0qM1dPkt80MotOWdI5BNyfvnp5lSlHxzoGijKWyw==@24f9cd34-0ee0-4-231-b9ee.documents.azure.com:10255/?ssl=true&replicaSet=globaldb\"\n",
    "myclient = pymongo.MongoClient(uri)\n",
    "\n",
    "mydb = myclient[\"NewsDatabase\"]\n",
    "mycol = mydb['all_news']"
   ]
  },
  {
   "cell_type": "code",
   "execution_count": null,
   "metadata": {},
   "outputs": [],
   "source": [
    "myclient.list_database_names()"
   ]
  },
  {
   "cell_type": "code",
   "execution_count": 4,
   "metadata": {
    "scrolled": false
   },
   "outputs": [
    {
     "name": "stdout",
     "output_type": "stream",
     "text": [
      "all_news2\n",
      "all_news\n"
     ]
    },
    {
     "name": "stderr",
     "output_type": "stream",
     "text": [
      "C:\\Users\\Desktop\\Anaconda3\\lib\\site-packages\\ipykernel_launcher.py:1: DeprecationWarning: collection_names is deprecated. Use list_collection_names instead.\n",
      "  \"\"\"Entry point for launching an IPython kernel.\n"
     ]
    }
   ],
   "source": [
    "for i in mydb.collection_names():\n",
    "    print(i)"
   ]
  },
  {
   "cell_type": "markdown",
   "metadata": {},
   "source": [
    "### Load Data"
   ]
  },
  {
   "cell_type": "code",
   "execution_count": null,
   "metadata": {},
   "outputs": [],
   "source": [
    "df = pd.read_csv(r'D:\\Sabertooth files\\News Data\\news(24-11-2018).csv',encoding = 'ISO-8859-1')"
   ]
  },
  {
   "cell_type": "code",
   "execution_count": null,
   "metadata": {},
   "outputs": [],
   "source": [
    "import json\n",
    "jdf = open('cipla.json',encoding = 'ISO-8859-1').read()\n",
    "data = json.loads(jdf)"
   ]
  },
  {
   "cell_type": "markdown",
   "metadata": {},
   "source": [
    "### Inserting Data"
   ]
  },
  {
   "cell_type": "code",
   "execution_count": null,
   "metadata": {
    "scrolled": true
   },
   "outputs": [],
   "source": [
    "x = mycol.insert_one(data)"
   ]
  },
  {
   "cell_type": "code",
   "execution_count": null,
   "metadata": {},
   "outputs": [],
   "source": [
    "x.inserted_id"
   ]
  },
  {
   "cell_type": "code",
   "execution_count": null,
   "metadata": {},
   "outputs": [],
   "source": [
    "myquery = {\"Title\":{ \"$gt\": \"S\" }}"
   ]
  },
  {
   "cell_type": "code",
   "execution_count": null,
   "metadata": {},
   "outputs": [],
   "source": [
    "import json\n",
    "#jdf = open('cipla.json',encoding = 'ISO-8859-1').read()\n",
    "data = json.loads(df.to_json(orient = 'records'))"
   ]
  },
  {
   "cell_type": "code",
   "execution_count": null,
   "metadata": {},
   "outputs": [
    {
     "name": "stderr",
     "output_type": "stream",
     "text": [
      "Completed:   0% |                         | ETA:  26 days, 12:39:09   4.35  B/s\r"
     ]
    }
   ],
   "source": [
    "import pandas as pd\n",
    "import os\n",
    "import json\n",
    "from progressbar import Bar, ETA, FileTransferSpeed, Percentage, RotatingMarker, ProgressBar\n",
    "\n",
    "widgets = [\"Completed: \", Percentage(), ' ', Bar(marker = RotatingMarker()),\n",
    "          ' ', ETA(), ' ', FileTransferSpeed()]\n",
    "pbar = ProgressBar(widgets  = widgets, maxval = 10000000).start()\n",
    "chunksize = 1\n",
    "for no,df in enumerate(pbar(pd.read_csv(r'D:\\Sabertooth files\\News Data\\UpdatedNews3.csv',encoding = 'ISO-8859-1',chunksize = chunksize))):\n",
    "    db = myclient.testdb\n",
    "    data = json.loads(df.to_json(orient = 'records'))\n",
    "    mycol.insert_one(data[0])"
   ]
  },
  {
   "cell_type": "markdown",
   "metadata": {},
   "source": [
    "###   Search query"
   ]
  },
  {
   "cell_type": "code",
   "execution_count": null,
   "metadata": {},
   "outputs": [],
   "source": [
    "import pymongo"
   ]
  },
  {
   "cell_type": "code",
   "execution_count": null,
   "metadata": {},
   "outputs": [],
   "source": [
    "client = pymongo.MongoClient()\n",
    "mydb = client['NewsDatabase']\n",
    "collection = mydb['all_news2']"
   ]
  },
  {
   "cell_type": "code",
   "execution_count": null,
   "metadata": {},
   "outputs": [],
   "source": [
    "for i in collection.list_indexes():\n",
    "    print(i)"
   ]
  },
  {
   "cell_type": "code",
   "execution_count": null,
   "metadata": {
    "scrolled": true
   },
   "outputs": [],
   "source": [
    "collection.create_index([('Date','text')])"
   ]
  },
  {
   "cell_type": "code",
   "execution_count": null,
   "metadata": {},
   "outputs": [],
   "source": [
    "import ipywidgets as widgets\n",
    "d = widgets.Dropdown(options=['Date', 'Source'], value=None, disabled=False)\n",
    "def find_sort():\n",
    "    count = 0\n",
    "    word = \" \"+input('search: ')+\" \"\n",
    "    start = input('start date: ')\n",
    "    end = input('end date: ')\n",
    "    for i in collection.find({\"$and\": [{\"Title\" : {\"$regex\" : word,\"$options\":\"i\"}},{'Date': {'$gte': start, '$lt': end}}]}).sort('Date',pymongo.ASCENDING) :\n",
    "        count += 1\n",
    "        print(i['Date'],i['Title'])\n",
    "    print(count)\n",
    "find_sort()"
   ]
  },
  {
   "cell_type": "code",
   "execution_count": null,
   "metadata": {},
   "outputs": [],
   "source": [
    "import datetime\n",
    "import pandas as pd\n",
    "start = pd.to_datetime(\"2017-09-12\")\n",
    "end = pd.to_datetime(\"2018-08-11\")\n",
    "\n",
    "for doc in collection.find({'Date': {'$gte': \"2017-01-01\", '$lt': \"2017-01-29\"}}).sort('Date',pymongo.ASCENDING):\n",
    "    print (doc['Date'])"
   ]
  },
  {
   "cell_type": "code",
   "execution_count": null,
   "metadata": {},
   "outputs": [],
   "source": [
    "li = []\n",
    "for i in data:\n",
    "    li.append(i)"
   ]
  },
  {
   "cell_type": "code",
   "execution_count": null,
   "metadata": {},
   "outputs": [],
   "source": [
    "Sabertooth_666"
   ]
  },
  {
   "cell_type": "code",
   "execution_count": null,
   "metadata": {},
   "outputs": [],
   "source": [
    "import pandas as pd\n",
    "df = pd.read_csv('cipla.csv',encoding = 'ISO-8859-1')"
   ]
  },
  {
   "cell_type": "code",
   "execution_count": null,
   "metadata": {},
   "outputs": [],
   "source": [
    "df.to_json('cipla.json',orient = 'records')"
   ]
  },
  {
   "cell_type": "code",
   "execution_count": 1,
   "metadata": {},
   "outputs": [
    {
     "data": {
      "text/plain": [
       "['.ipynb_checkpoints',\n",
       " 'Eve Rest API.ipynb',\n",
       " 'myvenv',\n",
       " 'Pymongo.ipynb',\n",
       " 'Untitled.ipynb']"
      ]
     },
     "execution_count": 1,
     "metadata": {},
     "output_type": "execute_result"
    }
   ],
   "source": [
    "import os\n",
    "os.listdir()"
   ]
  },
  {
   "cell_type": "code",
   "execution_count": null,
   "metadata": {},
   "outputs": [],
   "source": []
  }
 ],
 "metadata": {
  "kernelspec": {
   "display_name": "Python 3",
   "language": "python",
   "name": "python3"
  },
  "language_info": {
   "codemirror_mode": {
    "name": "ipython",
    "version": 3
   },
   "file_extension": ".py",
   "mimetype": "text/x-python",
   "name": "python",
   "nbconvert_exporter": "python",
   "pygments_lexer": "ipython3",
   "version": "3.6.5"
  }
 },
 "nbformat": 4,
 "nbformat_minor": 2
}
